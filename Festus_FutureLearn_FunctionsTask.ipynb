{
  "cells": [
    {
      "cell_type": "markdown",
      "metadata": {
        "id": "view-in-github",
        "colab_type": "text"
      },
      "source": [
        "<a href=\"https://colab.research.google.com/github/FestusCJ/Data-Analytics-Projects/blob/master/Festus_FutureLearn_FunctionsTask.ipynb\" target=\"_parent\"><img src=\"https://colab.research.google.com/assets/colab-badge.svg\" alt=\"Open In Colab\"/></a>"
      ]
    },
    {
      "cell_type": "markdown",
      "metadata": {
        "id": "OgOBqFe6P8OS"
      },
      "source": [
        "<img src=\"https://assets.futurelearn.com/packs/app/assets/images/fl_logo-f9d7f37a61915a2fbf8a26cbb285fed0.svg\"/>"
      ]
    },
    {
      "cell_type": "markdown",
      "metadata": {
        "id": "LfQxU4AwP8Oz"
      },
      "source": [
        "# Get ready for a Masters in Data Science and Artificial Intelligence\n",
        "\n",
        "The following notebook is intended for use after reading the step listed below.\n",
        "\n",
        "The following tasks are designed to test your knowledge on what we have learned during the current step, make sure to read each section carefully and then edit the code cells to fit the requirements. \n",
        "\n",
        "You are encouraged to ask other students for peer feedback from the tutorials, this provides valuable insight and can show you different methods to complete the same task.\n",
        "\n",
        "Try to complete the tasks by yourself, but if you would like some help you can either:\n",
        "- Look back at the content for this step on Future Learn.\n",
        "- Ask another student how they completed the task.\n",
        "- Use Google to your advantage!"
      ]
    },
    {
      "cell_type": "markdown",
      "metadata": {
        "id": "dOvvQma-P8O8"
      },
      "source": [
        "### Task 1\n",
        "Define a function and call it! It can do anything you want such as Printing a message!"
      ]
    },
    {
      "cell_type": "code",
      "execution_count": 3,
      "metadata": {
        "colab": {
          "base_uri": "https://localhost:8080/"
        },
        "id": "YgZNbWMfP8O-",
        "outputId": "ccabd557-1a44-457b-e992-eeb3285a23ec"
      },
      "outputs": [
        {
          "output_type": "stream",
          "name": "stdout",
          "text": [
            "21\n"
          ]
        }
      ],
      "source": [
        "# Your code goes below here!\n",
        "def MultiplyTwoNumbers(NumberA, NumberB):\n",
        "  print(NumberA * NumberB)\n",
        "\n",
        "MultiplyTwoNumbers(7, 3)\n"
      ]
    },
    {
      "cell_type": "code",
      "source": [
        "def Hello():\n",
        "  print(\"Hey there!, how are you?\")\n",
        "\n",
        "Hello()"
      ],
      "metadata": {
        "colab": {
          "base_uri": "https://localhost:8080/"
        },
        "id": "zuhSbi7pSRRL",
        "outputId": "7e68b9a2-a37f-47a7-b9a4-263ca58a28fa"
      },
      "execution_count": 5,
      "outputs": [
        {
          "output_type": "stream",
          "name": "stdout",
          "text": [
            "Hey there!, how are you?\n"
          ]
        }
      ]
    },
    {
      "cell_type": "markdown",
      "metadata": {
        "id": "8nqU1IClP8PC"
      },
      "source": [
        "### Task 2\n",
        "For this task, do the following:\n",
        "- Define a function with 2 Arguments\n",
        "- Use an If/Else statement to find out which argument is the biggest number and then `print()` it!\n",
        "\n",
        "When you are done, call the function with 2 numbers and then Run the cell to see if it works!"
      ]
    },
    {
      "cell_type": "code",
      "execution_count": 8,
      "metadata": {
        "colab": {
          "base_uri": "https://localhost:8080/"
        },
        "id": "EsMmFeLVP8PG",
        "outputId": "94674679-f2a9-4cb5-b93d-02afad79841b"
      },
      "outputs": [
        {
          "output_type": "stream",
          "name": "stdout",
          "text": [
            "The Bigger Number is: 15\n"
          ]
        }
      ],
      "source": [
        "# Your code goes below here!\n",
        "def BiggerNumber(NumberA, NumberB):\n",
        "  if (NumberA > NumberB):\n",
        "    print(\"The Bigger Number is:\", NumberA)\n",
        "  else:\n",
        "    print(\"The Bigger Number is:\", NumberB)\n",
        "\n",
        "BiggerNumber(10, 15)"
      ]
    },
    {
      "cell_type": "markdown",
      "metadata": {
        "id": "23ay3LHUP8PR"
      },
      "source": [
        "### Task 3\n",
        "For this task you will do the following:\n",
        "- Define a function with 1 Argument\n",
        "- Use an If/Else statement to find out if the argument is Positive or Negative\n",
        "- Make the function return `False` if the number is negative and `True` if Positive\n",
        "\n",
        "When you are done, call the function with a number and then Run the cell to see if it works!"
      ]
    },
    {
      "cell_type": "code",
      "execution_count": 9,
      "metadata": {
        "colab": {
          "base_uri": "https://localhost:8080/"
        },
        "id": "1RoHw-oEP8PX",
        "outputId": "ff993799-e3de-42b9-adf4-2a4f6074e153"
      },
      "outputs": [
        {
          "output_type": "stream",
          "name": "stdout",
          "text": [
            "True\n"
          ]
        }
      ],
      "source": [
        "# Your code goes below here!\n",
        "def PositiveOrNegative(Number):\n",
        "  if(Number < 0):\n",
        "    return False\n",
        "  else:\n",
        "    return True\n",
        "\n",
        "print(PositiveOrNegative(5))\n"
      ]
    },
    {
      "cell_type": "markdown",
      "metadata": {
        "id": "sqaV04IkP8Pb"
      },
      "source": [
        "### Task 4\n",
        "For this task you will do the following:\n",
        "- Define a Function with 1 Argument that Squares the number you give it and returns it!"
      ]
    },
    {
      "cell_type": "code",
      "execution_count": 11,
      "metadata": {
        "colab": {
          "base_uri": "https://localhost:8080/"
        },
        "id": "KOcVEGDKP8Pf",
        "outputId": "3445e366-e2af-42f5-d7c0-63ad46954b49"
      },
      "outputs": [
        {
          "output_type": "stream",
          "name": "stdout",
          "text": [
            "100\n"
          ]
        }
      ],
      "source": [
        "#Your code goes below here!\n",
        "def SquareNumber(Number):\n",
        "  return(Number**2)\n",
        "print(SquareNumber(10))"
      ]
    },
    {
      "cell_type": "markdown",
      "metadata": {
        "id": "aPkO7JekP8Ph"
      },
      "source": [
        "# Answers\n",
        "The answers to the above tasks are listed below this cell, before looking down here, make sure you've had a real good try at the tasks above!\n",
        "```\n",
        "\n",
        "\n",
        "\n",
        "\n",
        "\n",
        "\n",
        "\n",
        "\n",
        "\n",
        "\n",
        "\n",
        "\n",
        "\n",
        "\n",
        "\n",
        "\n",
        "\n",
        "\n",
        "\n",
        "\n",
        "\n",
        "\n",
        "\n",
        "\n",
        "\n",
        "\n",
        "\n",
        "\n",
        "\n",
        "\n",
        "\n",
        "\n",
        "\n",
        "\n",
        "\n",
        "\n",
        "\n",
        "\n",
        "\n",
        "\n",
        "\n",
        "```\n",
        "\n",
        "\n",
        "\n"
      ]
    },
    {
      "cell_type": "markdown",
      "metadata": {
        "id": "Rl5d0zkRP8Pj"
      },
      "source": [
        "### Task 1\n",
        "Define a function and call it! It can do anything you want such as Printing a message!"
      ]
    },
    {
      "cell_type": "code",
      "execution_count": null,
      "metadata": {
        "id": "HZWuDjMAP8Pl",
        "outputId": "b24b5138-8864-4f39-e8aa-44ad9a798cd6"
      },
      "outputs": [
        {
          "name": "stdout",
          "output_type": "stream",
          "text": [
            "Hello DSAI!\n"
          ]
        }
      ],
      "source": [
        "# Your code goes below here!\n",
        "\n",
        "def HelloWorld():\n",
        "    print(\"Hello DSAI!\")\n",
        "\n",
        "HelloWorld()"
      ]
    },
    {
      "cell_type": "markdown",
      "metadata": {
        "id": "fxl4U3MUP8Py"
      },
      "source": [
        "### Task 2\n",
        "For this task, do the following:\n",
        "- Define a function with 2 Arguments\n",
        "- Use an If/Else statement to find out which argument is the biggest number and then `print()` it!\n",
        "\n",
        "When you are done, call the function with 2 numbers and then Run the cell to see if it works!"
      ]
    },
    {
      "cell_type": "code",
      "execution_count": null,
      "metadata": {
        "id": "vWvhiYNPP8P1",
        "outputId": "68fc1f2d-5e30-4e7b-e2da-902a28b8193e"
      },
      "outputs": [
        {
          "name": "stdout",
          "output_type": "stream",
          "text": [
            "30\n"
          ]
        }
      ],
      "source": [
        "# Your code goes below here!\n",
        "def BiggerNumber(numA, numB):\n",
        "    if(numA > numB):\n",
        "        print(numA)\n",
        "    else:\n",
        "        print(numB)\n",
        "        \n",
        "BiggerNumber(20,30)"
      ]
    },
    {
      "cell_type": "markdown",
      "metadata": {
        "id": "avYot1PWP8P6"
      },
      "source": [
        "### Task 3\n",
        "For this task you will do the following:\n",
        "- Define a function with 1 Argument\n",
        "- Use an If/Else statement to find out if the argument is Positive or Negative\n",
        "- Make the function return `False` if the number is negative and `True` if Positive\n",
        "\n",
        "When you are done, call the function with a number and then Run the cell to see if it works!"
      ]
    },
    {
      "cell_type": "code",
      "execution_count": null,
      "metadata": {
        "id": "TqjaL3TRP8P9",
        "outputId": "c3da16eb-5b28-4688-bfda-758ec0721a99"
      },
      "outputs": [
        {
          "name": "stdout",
          "output_type": "stream",
          "text": [
            "False\n"
          ]
        }
      ],
      "source": [
        "# Your code goes below here!\n",
        "def IsPositive(number):\n",
        "    if(number >= 0):\n",
        "        return True\n",
        "    else:\n",
        "        return False\n",
        "    \n",
        "print(IsPositive(-1))"
      ]
    },
    {
      "cell_type": "markdown",
      "metadata": {
        "id": "h-veT-1dP8QD"
      },
      "source": [
        "### Task 4\n",
        "For this task you will do the following:\n",
        "- Define a Function with 1 Argument that Squares the number you give it and returns it!"
      ]
    },
    {
      "cell_type": "code",
      "execution_count": null,
      "metadata": {
        "id": "5-tW3gtGP8QE",
        "outputId": "e0e4a5b8-762c-453d-d35d-a9884e568e24"
      },
      "outputs": [
        {
          "name": "stdout",
          "output_type": "stream",
          "text": [
            "25\n"
          ]
        }
      ],
      "source": [
        "#Your code goes below here!\n",
        "\n",
        "def Square(number):\n",
        "    return number * number\n",
        "\n",
        "print(Square(5))"
      ]
    }
  ],
  "metadata": {
    "kernelspec": {
      "display_name": "Python 3",
      "language": "python",
      "name": "python3"
    },
    "language_info": {
      "codemirror_mode": {
        "name": "ipython",
        "version": 3
      },
      "file_extension": ".py",
      "mimetype": "text/x-python",
      "name": "python",
      "nbconvert_exporter": "python",
      "pygments_lexer": "ipython3",
      "version": "3.7.1"
    },
    "colab": {
      "name": "FunctionsTask.ipynb",
      "provenance": [],
      "include_colab_link": true
    }
  },
  "nbformat": 4,
  "nbformat_minor": 0
}