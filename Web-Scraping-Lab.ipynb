{
    "cells": [
        {
            "metadata": {},
            "cell_type": "markdown",
            "source": "<center>\n    <img src=\"https://gitlab.com/ibm/skills-network/courses/placeholder101/-/raw/master/labs/module%201/images/IDSNlogo.png\" width=\"300\" alt=\"cognitiveclass.ai logo\"  />\n</center>\n"
        },
        {
            "metadata": {},
            "cell_type": "markdown",
            "source": "# **Hands-on Lab : Web Scraping**\n"
        },
        {
            "metadata": {},
            "cell_type": "markdown",
            "source": "Estimated time needed: **30 to 45** minutes\n"
        },
        {
            "metadata": {},
            "cell_type": "markdown",
            "source": "## Objectives\n"
        },
        {
            "metadata": {},
            "cell_type": "markdown",
            "source": "In this lab you will perform the following:\n"
        },
        {
            "metadata": {},
            "cell_type": "markdown",
            "source": "*   Extract information from a given web site\n*   Write the scraped data into a csv file.\n"
        },
        {
            "metadata": {},
            "cell_type": "markdown",
            "source": "## Extract information from the given web site\n\nYou will extract the data from the below web site: <br>\n"
        },
        {
            "metadata": {},
            "cell_type": "code",
            "source": "#this url contains the data you need to scrape\nurl = \"https://cf-courses-data.s3.us.cloud-object-storage.appdomain.cloud/IBM-DA0321EN-SkillsNetwork/labs/datasets/Programming_Languages.html\"",
            "execution_count": 1,
            "outputs": []
        },
        {
            "metadata": {},
            "cell_type": "markdown",
            "source": "The data you need to scrape is the **name of the programming language** and **average annual salary**.<br> It is a good idea to open the url in your web broswer and study the contents of the web page before you start to scrape.\n"
        },
        {
            "metadata": {},
            "cell_type": "markdown",
            "source": "Import the required libraries\n"
        },
        {
            "metadata": {},
            "cell_type": "code",
            "source": "# Your code here\nfrom bs4 import BeautifulSoup # this module helps in web scrapping.\nimport requests  # this module helps us to download a web page",
            "execution_count": 2,
            "outputs": []
        },
        {
            "metadata": {},
            "cell_type": "markdown",
            "source": "Download the webpage at the url\n"
        },
        {
            "metadata": {},
            "cell_type": "code",
            "source": "#your code goes here\n# get the contents of the webpage in text format and store in a variable called data\ndata  = requests.get(url).text ",
            "execution_count": 3,
            "outputs": []
        },
        {
            "metadata": {},
            "cell_type": "markdown",
            "source": "Create a soup object\n"
        },
        {
            "metadata": {},
            "cell_type": "code",
            "source": "#your code goes here\nsoup = BeautifulSoup(data,\"html5lib\")  # create a soup object using the variable 'data'",
            "execution_count": 4,
            "outputs": []
        },
        {
            "metadata": {},
            "cell_type": "markdown",
            "source": "Scrape the `Language name` and `annual average salary`.\n"
        },
        {
            "metadata": {
                "scrolled": true
            },
            "cell_type": "code",
            "source": "#your code goes here\n#find a html table in the web page\ntable = soup.find('table') # in html table is represented by the tag <table>\n#Get all rows from the table\nfor row in table.find_all('tr'): # in html table row is represented by the tag <tr>\n    # Get all columns in each row.\n    cols = row.find_all('td') # in html a column is represented by the tag <td>\n    language_name = cols[1].getText() # store the value in column 2 as color_name\n    annual_average_salary = cols[3].getText() # store the value in column 4 as color_code\n    print(\"{}--->{}\".format(language_name,annual_average_salary))",
            "execution_count": 5,
            "outputs": [
                {
                    "output_type": "stream",
                    "text": "Language--->Average Annual Salary\nPython--->$114,383\nJava--->$101,013\nR--->$92,037\nJavascript--->$110,981\nSwift--->$130,801\nC++--->$113,865\nC#--->$88,726\nPHP--->$84,727\nSQL--->$84,793\nGo--->$94,082\n",
                    "name": "stdout"
                }
            ]
        },
        {
            "metadata": {},
            "cell_type": "markdown",
            "source": "Save the scrapped data into a file named *popular-languages.csv*\n"
        },
        {
            "metadata": {},
            "cell_type": "code",
            "source": "# your code goes here\nimport csv\nimport pandas as pd\nfrom IPython.display import HTML\nimport base64, io",
            "execution_count": 6,
            "outputs": []
        },
        {
            "metadata": {},
            "cell_type": "code",
            "source": "table_rows = table.find_all('tr')\nl = []\nfor tr in table_rows:\n    td = tr.find_all('td')\n    row = [tr.text for tr in td]\n    l.append(row)\ndf = pd.DataFrame(l, columns=[\"Column1\", \"language\", \"c3\", \"Salary\", \"c5\"])",
            "execution_count": 7,
            "outputs": []
        },
        {
            "metadata": {
                "scrolled": true
            },
            "cell_type": "code",
            "source": "df.drop(columns = [\"Column1\", \"c3\", \"c5\"], inplace = True)\ndf",
            "execution_count": 8,
            "outputs": [
                {
                    "output_type": "execute_result",
                    "execution_count": 8,
                    "data": {
                        "text/plain": "      language                 Salary\n0     Language  Average Annual Salary\n1       Python               $114,383\n2         Java               $101,013\n3            R                $92,037\n4   Javascript               $110,981\n5        Swift               $130,801\n6          C++               $113,865\n7           C#                $88,726\n8          PHP                $84,727\n9          SQL                $84,793\n10          Go                $94,082",
                        "text/html": "<div>\n<style scoped>\n    .dataframe tbody tr th:only-of-type {\n        vertical-align: middle;\n    }\n\n    .dataframe tbody tr th {\n        vertical-align: top;\n    }\n\n    .dataframe thead th {\n        text-align: right;\n    }\n</style>\n<table border=\"1\" class=\"dataframe\">\n  <thead>\n    <tr style=\"text-align: right;\">\n      <th></th>\n      <th>language</th>\n      <th>Salary</th>\n    </tr>\n  </thead>\n  <tbody>\n    <tr>\n      <th>0</th>\n      <td>Language</td>\n      <td>Average Annual Salary</td>\n    </tr>\n    <tr>\n      <th>1</th>\n      <td>Python</td>\n      <td>$114,383</td>\n    </tr>\n    <tr>\n      <th>2</th>\n      <td>Java</td>\n      <td>$101,013</td>\n    </tr>\n    <tr>\n      <th>3</th>\n      <td>R</td>\n      <td>$92,037</td>\n    </tr>\n    <tr>\n      <th>4</th>\n      <td>Javascript</td>\n      <td>$110,981</td>\n    </tr>\n    <tr>\n      <th>5</th>\n      <td>Swift</td>\n      <td>$130,801</td>\n    </tr>\n    <tr>\n      <th>6</th>\n      <td>C++</td>\n      <td>$113,865</td>\n    </tr>\n    <tr>\n      <th>7</th>\n      <td>C#</td>\n      <td>$88,726</td>\n    </tr>\n    <tr>\n      <th>8</th>\n      <td>PHP</td>\n      <td>$84,727</td>\n    </tr>\n    <tr>\n      <th>9</th>\n      <td>SQL</td>\n      <td>$84,793</td>\n    </tr>\n    <tr>\n      <th>10</th>\n      <td>Go</td>\n      <td>$94,082</td>\n    </tr>\n  </tbody>\n</table>\n</div>"
                    },
                    "metadata": {}
                }
            ]
        },
        {
            "metadata": {},
            "cell_type": "code",
            "source": "df.to_csv(\"popular-languages.csv\")",
            "execution_count": 9,
            "outputs": []
        },
        {
            "metadata": {},
            "cell_type": "code",
            "source": "import os\n\nos.getcwd()",
            "execution_count": 10,
            "outputs": [
                {
                    "output_type": "execute_result",
                    "execution_count": 10,
                    "data": {
                        "text/plain": "'/home/wsuser/work'"
                    },
                    "metadata": {}
                }
            ]
        },
        {
            "metadata": {},
            "cell_type": "code",
            "source": "def create_download_link_csv(df,title=\"Download CSV File\", filename=\"/home/wuser/work/popular-languages.csv\"):\n    csv = df.to_csv()\n    b64 = base64.b64encode(csv.encode())\n    payload = b64.decode\n    html = '<a download=\"{filename}\" href=\"data:text/csv;base64,{payload}\" target=\"_blank\">{title}</a>'\n    html = html.format(payload=payload, title=title, filename=filename)\n    return HTML(html)\n",
            "execution_count": 15,
            "outputs": []
        },
        {
            "metadata": {},
            "cell_type": "code",
            "source": "create_download_link_csv(df)",
            "execution_count": 13,
            "outputs": [
                {
                    "output_type": "execute_result",
                    "execution_count": 13,
                    "data": {
                        "text/plain": "<IPython.core.display.HTML object>",
                        "text/html": "<a download=\"/home/wuser/work/popular-languages.csv\" href=\"data:text/csv;base64,<built-in method decode of bytes object at 0x7fbea9dfc180>\" target=\"_blank\">Download CSV File</a>"
                    },
                    "metadata": {}
                }
            ]
        },
        {
            "metadata": {},
            "cell_type": "markdown",
            "source": "## Authors\n"
        },
        {
            "metadata": {},
            "cell_type": "markdown",
            "source": "Ramesh Sannareddy\n"
        },
        {
            "metadata": {},
            "cell_type": "markdown",
            "source": "### Other Contributors\n"
        },
        {
            "metadata": {},
            "cell_type": "markdown",
            "source": "Rav Ahuja\n"
        },
        {
            "metadata": {},
            "cell_type": "markdown",
            "source": "## Change Log\n"
        },
        {
            "metadata": {},
            "cell_type": "markdown",
            "source": "| Date (YYYY-MM-DD) | Version | Changed By        | Change Description                 |\n| ----------------- | ------- | ----------------- | ---------------------------------- |\n| 2020-10-17        | 0.1     | Ramesh Sannareddy | Created initial version of the lab |\n"
        },
        {
            "metadata": {},
            "cell_type": "markdown",
            "source": "Copyright \u00a9 2020 IBM Corporation. This notebook and its source code are released under the terms of the [MIT License](https://cognitiveclass.ai/mit-license/?utm_medium=Exinfluencer&utm_source=Exinfluencer&utm_content=000026UJ&utm_term=10006555&utm_id=NA-SkillsNetwork-Channel-SkillsNetworkCoursesIBMDA0321ENSkillsNetwork21426264-2021-01-01).\n"
        }
    ],
    "metadata": {
        "kernelspec": {
            "name": "python3",
            "display_name": "Python 3.8",
            "language": "python"
        },
        "language_info": {
            "name": "python",
            "version": "3.8.12",
            "mimetype": "text/x-python",
            "codemirror_mode": {
                "name": "ipython",
                "version": 3
            },
            "pygments_lexer": "ipython3",
            "nbconvert_exporter": "python",
            "file_extension": ".py"
        }
    },
    "nbformat": 4,
    "nbformat_minor": 4
}