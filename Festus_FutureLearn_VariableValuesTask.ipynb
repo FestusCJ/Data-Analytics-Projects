{
  "cells": [
    {
      "cell_type": "markdown",
      "metadata": {
        "id": "view-in-github",
        "colab_type": "text"
      },
      "source": [
        "<a href=\"https://colab.research.google.com/github/FestusCJ/Data-Analytics-Projects/blob/master/Festus_FutureLearn_VariableValuesTask.ipynb\" target=\"_parent\"><img src=\"https://colab.research.google.com/assets/colab-badge.svg\" alt=\"Open In Colab\"/></a>"
      ]
    },
    {
      "cell_type": "markdown",
      "metadata": {
        "id": "0iw5944K7Cz_"
      },
      "source": [
        "<img src=\"https://assets.futurelearn.com/packs/app/assets/images/fl_logo-f9d7f37a61915a2fbf8a26cbb285fed0.svg\"/>"
      ]
    },
    {
      "cell_type": "markdown",
      "metadata": {
        "id": "PJHv8izN7C0R"
      },
      "source": [
        "# Get ready for a Masters in Data Science and Artificial Intelligence\n",
        "\n",
        "The following notebook is intended for use after reading the step listed below.\n",
        "\n",
        "The following tasks are designed to test your knowledge on what we have learned during the current step, make sure to read each section carefully and then edit the code cells to fit the requirements. \n",
        "\n",
        "You are encouraged to ask other students for peer feedback from the tutorials, this provides valuable insight and can show you different methods to complete the same task.\n",
        "\n",
        "Try to complete the tasks by yourself, but if you would like some help you can either:\n",
        "- Look back at the content for this step on Future Learn.\n",
        "- Ask another student how they completed the task.\n",
        "- Use Google to your advantage!"
      ]
    },
    {
      "cell_type": "markdown",
      "metadata": {
        "id": "TYBY6gG37C0V"
      },
      "source": [
        "# Operators\n",
        "Just to remind you, here's the table of Operators from the previous step!\n",
        "\n",
        "| **Operator** | **Name** |\n",
        "| :---:|:---:|\n",
        "|+|Addition|\n",
        "|-|Subtraction|\n",
        "|*|Multiplication|\n",
        "|/|Division|\n",
        "|%|Modulus|\n",
        "|**|Exponentiation|\n",
        "|//|Floor Division|"
      ]
    },
    {
      "cell_type": "markdown",
      "metadata": {
        "id": "QKMjUiXa7C0X"
      },
      "source": [
        "# Step 1-13 Task - Variables"
      ]
    },
    {
      "cell_type": "markdown",
      "metadata": {
        "id": "80go9sth7C0Z"
      },
      "source": [
        "### Task 1\n",
        "For each of the variables, store an appropriate value for their name. \n",
        "The `IntegerVariable` has been done for you and stores a whole number of `1586`, now do the same for the other Data Types!\n"
      ]
    },
    {
      "cell_type": "code",
      "execution_count": 1,
      "metadata": {
        "id": "mcLSyIBH7C0d"
      },
      "outputs": [],
      "source": [
        "IntegerVariable = 1586\n",
        "\n",
        "FloatVariable = -95.76\n",
        "\n",
        "BooleanVariable_WorkingOnJupyterNotebook = True\n",
        "\n",
        "StringVariable = \"Documenting my DSAI Journey here!\""
      ]
    },
    {
      "cell_type": "markdown",
      "metadata": {
        "id": "hawmjDJj7C0j"
      },
      "source": [
        "### Task 2\n",
        "Perform the following Operations on the Variables below, the first one has been done for you!\n",
        "\n",
        "1. Add 56 to the first Variable\n",
        "2. Multiply the second Variable by 12\n",
        "3. Subtract 10 from the third Variable\n",
        "4. Make the fourth variable equal to the First and Second Variables added together."
      ]
    },
    {
      "cell_type": "code",
      "execution_count": 2,
      "metadata": {
        "id": "BzoPC93L7C0n"
      },
      "outputs": [],
      "source": [
        "FirstVariable = 44\n",
        "SecondVariable = 10\n",
        "ThirdVariable = 110\n",
        "FourthVariable = 0\n",
        "\n",
        "#Your code goes below here!\n",
        "FirstVariable = FirstVariable + 56\n",
        "SecondVariable = SecondVariable * 12\n",
        "ThirdVariable = ThirdVariable - 10\n",
        "FourthVariable = FirstVariable + SecondVariable\n"
      ]
    },
    {
      "cell_type": "markdown",
      "metadata": {
        "id": "ZIXiKJpL7C0q"
      },
      "source": [
        "### Task 3\n",
        "For this task you will do the following:\n",
        "- Add together the variables to produce and get the program to `print()` the message: `\"I am programming in Python!\"`\n",
        "- Do not add any extra variables or change any existing ones.\n",
        "\n",
        "When you are done, Run the cell to see if it works!"
      ]
    },
    {
      "cell_type": "code",
      "execution_count": 3,
      "metadata": {
        "colab": {
          "base_uri": "https://localhost:8080/"
        },
        "id": "3j17pAvs7C0t",
        "outputId": "44dc2a46-1ba4-482c-b302-1d015cc6611b"
      },
      "outputs": [
        {
          "output_type": "stream",
          "name": "stdout",
          "text": [
            "I am programming in Python!\n"
          ]
        }
      ],
      "source": [
        "StringA = \"I am programming \"\n",
        "StringB = \"in Python\"\n",
        "StringC = \"!\"\n",
        "\n",
        "\n",
        "PrintMessage = StringA + StringB + StringC #<< Your code goes before this comment!\n",
        "\n",
        "print(PrintMessage)"
      ]
    },
    {
      "cell_type": "markdown",
      "metadata": {
        "id": "SYyvk-Kp7C0w"
      },
      "source": [
        "### Task 4\n",
        "For this task you will do the following:\n",
        "- Declare an Array with 6 Names like the one we used as an example in this step!\n",
        "\n",
        "When you are done, Run the cell to see if it works!"
      ]
    },
    {
      "cell_type": "code",
      "execution_count": 5,
      "metadata": {
        "colab": {
          "base_uri": "https://localhost:8080/"
        },
        "id": "WqoHVXz-7C0x",
        "outputId": "bdfe2db0-a8eb-47c2-a37a-56121dfe9006"
      },
      "outputs": [
        {
          "output_type": "stream",
          "name": "stdout",
          "text": [
            "['USA', 'Canada', 'UK', 'Germany', 'France', 'Russia']\n"
          ]
        }
      ],
      "source": [
        "#Your code goes below here!\n",
        "CountryList = [\"USA\", \"Canada\", \"UK\", \"Germany\", \"France\", \"Russia\"]\n",
        "\n",
        "print(CountryList)\n",
        "\n"
      ]
    },
    {
      "cell_type": "markdown",
      "metadata": {
        "id": "qtvOMArf7C0y"
      },
      "source": [
        "### Task 5\n",
        "For this task you will do the following:\n",
        "- Set the given variables to their appropriate value e.g. Set `FirstNameInList` to the first name in `NameList` \n",
        "- Do not just copy/write out the names from the list, you should use indexing to extract the names from the list.\n",
        "\n",
        "*Hint: Remember Array indexes start at 0!*"
      ]
    },
    {
      "cell_type": "code",
      "execution_count": 6,
      "metadata": {
        "scrolled": true,
        "id": "IvNxIg8p7C0z"
      },
      "outputs": [],
      "source": [
        "NameList = [\"Brian\", \"David\", \"William\", \"Joshua\", \"Danny\"]\n",
        "\n",
        "#Fill in the following:\n",
        "FirstNameInList = NameList[0]\n",
        "ThirdNameInList = NameList[2]\n",
        "LastNameInList = NameList[-1]\n",
        "SecondToLastNameInList = NameList[-2]"
      ]
    },
    {
      "cell_type": "markdown",
      "metadata": {
        "id": "AdR2UiDL7C00"
      },
      "source": [
        "# Answers\n",
        "The answers to the above tasks are listed below this cell, before looking down here, make sure you've had a real good try at the tasks above!\n",
        "```\n",
        "\n",
        "\n",
        "\n",
        "\n",
        "\n",
        "\n",
        "\n",
        "\n",
        "\n",
        "\n",
        "\n",
        "\n",
        "\n",
        "\n",
        "\n",
        "\n",
        "\n",
        "\n",
        "\n",
        "\n",
        "\n",
        "\n",
        "\n",
        "\n",
        "\n",
        "\n",
        "\n",
        "\n",
        "\n",
        "\n",
        "\n",
        "\n",
        "\n",
        "\n",
        "\n",
        "\n",
        "\n",
        "\n",
        "\n",
        "\n",
        "\n",
        "```\n",
        "\n",
        "\n",
        "\n"
      ]
    },
    {
      "cell_type": "markdown",
      "metadata": {
        "id": "C5qQ_XQJ7C01"
      },
      "source": [
        "### Task 1\n",
        "For each of the variables, store an appropriate value for their name. \n",
        "The `IntegerVariable` has been done for you and stores a whole number of `1586`, now do the same for the other Data Types!\n"
      ]
    },
    {
      "cell_type": "code",
      "execution_count": null,
      "metadata": {
        "id": "FFcfca0m7C02"
      },
      "outputs": [],
      "source": [
        "IntegerVariable = 1586\n",
        "\n",
        "FloatVariable = 12.256\n",
        "\n",
        "BooleanVariable = False\n",
        "\n",
        "StringVariable = \"Hello!\""
      ]
    },
    {
      "cell_type": "markdown",
      "metadata": {
        "id": "hkJOPLsv7C03"
      },
      "source": [
        "### Task 2\n",
        "Perform the following Operations on the Variables below, the first one has been done for you!\n",
        "\n",
        "1. Add 56 to the first Variable\n",
        "2. Multiply the second Variable by 12\n",
        "3. Subtract 10 from the third Variable\n",
        "4. Make the fourth variable equal to the First and Second Variables added together."
      ]
    },
    {
      "cell_type": "code",
      "execution_count": null,
      "metadata": {
        "id": "BYLiREda7C03"
      },
      "outputs": [],
      "source": [
        "FirstVariable = 44\n",
        "SecondVariable = 10\n",
        "ThirdVariable = 110\n",
        "FourthVariable = 0\n",
        "\n",
        "#Your code goes below here!\n",
        "FirstVariable = FirstVariable + 56\n",
        "SecondVariable = SecondVariable * 12\n",
        "ThirdVariable = ThirdVariable - 10\n",
        "FourthVariable = FirstVariable + SecondVariable"
      ]
    },
    {
      "cell_type": "markdown",
      "metadata": {
        "id": "65bDhJCn7C04"
      },
      "source": [
        "### Task 3\n",
        "For this task you will do the following:\n",
        "- Add together the variables to produce and get the program to `print()` the message: `\"I am programming in Python!\"`\n",
        "- Do not add any extra variables or change any existing ones.\n",
        "\n",
        "When you are done, Run the cell to see if it works!"
      ]
    },
    {
      "cell_type": "code",
      "execution_count": null,
      "metadata": {
        "id": "7R-ZXkzT7C05"
      },
      "outputs": [],
      "source": [
        "StringA = \"I am programming \"\n",
        "StringB = \"in Python\"\n",
        "StringC = \"!\"\n",
        "\n",
        "\n",
        "PrintMessage = StringA + StringB + StringC   #<< Your code goes before this comment!\n",
        "\n",
        "print(PrintMessage)"
      ]
    },
    {
      "cell_type": "markdown",
      "metadata": {
        "id": "RCNot0B17C06"
      },
      "source": [
        "### Task 4\n",
        "For this task you will do the following:\n",
        "- Declare an Array with 6 Names like the one we used as an example in this step!\n",
        "\n",
        "When you are done, Run the cell to see if it works!"
      ]
    },
    {
      "cell_type": "code",
      "execution_count": null,
      "metadata": {
        "id": "PJ0QJJ3L7C06"
      },
      "outputs": [],
      "source": [
        "#Your code goes below here!\n",
        "NameList = [\"Brian\", \"David\", \"William\", \"Joshua\", \"Danny\", \"Daniel\"]\n"
      ]
    },
    {
      "cell_type": "markdown",
      "metadata": {
        "id": "NW0BNwPI7C07"
      },
      "source": [
        "### Task 5\n",
        "For this task you will do the following:\n",
        "- Set the given variables to their appropriate value e.g. Set `FirstNameInList` to the first name in `NameList` \n",
        "- Do not just copy/write out the names from the list, you should use indexing to extract the names from the list.\n",
        "\n",
        "*Hint: Remember Array indexes start at 0!*"
      ]
    },
    {
      "cell_type": "code",
      "execution_count": null,
      "metadata": {
        "scrolled": true,
        "id": "jJs1Jew87C07"
      },
      "outputs": [],
      "source": [
        "NameList = [\"Brian\", \"David\", \"William\", \"Joshua\", \"Danny\"]\n",
        "\n",
        "#Fill in the following:\n",
        "FirstNameInList = NameList[0]\n",
        "ThirdNameInList = NameList[2]\n",
        "LastNameInList = NameList[-1]\n",
        "SecondToLastNameInList = NameList[-2]"
      ]
    }
  ],
  "metadata": {
    "kernelspec": {
      "display_name": "Python 3",
      "language": "python",
      "name": "python3"
    },
    "language_info": {
      "codemirror_mode": {
        "name": "ipython",
        "version": 3
      },
      "file_extension": ".py",
      "mimetype": "text/x-python",
      "name": "python",
      "nbconvert_exporter": "python",
      "pygments_lexer": "ipython3",
      "version": "3.7.1"
    },
    "colab": {
      "name": "VariableValuesTask.ipynb",
      "provenance": [],
      "include_colab_link": true
    }
  },
  "nbformat": 4,
  "nbformat_minor": 0
}