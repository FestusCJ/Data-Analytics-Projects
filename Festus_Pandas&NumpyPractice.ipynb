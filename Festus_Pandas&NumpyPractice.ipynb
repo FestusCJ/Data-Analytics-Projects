{
  "nbformat": 4,
  "nbformat_minor": 0,
  "metadata": {
    "colab": {
      "name": "Untitled0.ipynb",
      "provenance": [],
      "authorship_tag": "ABX9TyOckyufRq9s0FgC2aYQSCtd",
      "include_colab_link": true
    },
    "kernelspec": {
      "name": "python3",
      "display_name": "Python 3"
    },
    "language_info": {
      "name": "python"
    }
  },
  "cells": [
    {
      "cell_type": "markdown",
      "metadata": {
        "id": "view-in-github",
        "colab_type": "text"
      },
      "source": [
        "<a href=\"https://colab.research.google.com/github/FestusCJ/Data-Analytics-Projects/blob/master/Festus_Pandas%26NumpyPractice.ipynb\" target=\"_parent\"><img src=\"https://colab.research.google.com/assets/colab-badge.svg\" alt=\"Open In Colab\"/></a>"
      ]
    },
    {
      "cell_type": "code",
      "execution_count": 1,
      "metadata": {
        "colab": {
          "base_uri": "https://localhost:8080/",
          "height": 424
        },
        "id": "ALjErM5KB0On",
        "outputId": "a646fac2-0f34-47c2-9bdc-5d7d969e7526"
      },
      "outputs": [
        {
          "output_type": "execute_result",
          "data": {
            "text/html": [
              "\n",
              "  <div id=\"df-c1ebf83b-0493-47de-8477-23a32ce0bf0f\">\n",
              "    <div class=\"colab-df-container\">\n",
              "      <div>\n",
              "<style scoped>\n",
              "    .dataframe tbody tr th:only-of-type {\n",
              "        vertical-align: middle;\n",
              "    }\n",
              "\n",
              "    .dataframe tbody tr th {\n",
              "        vertical-align: top;\n",
              "    }\n",
              "\n",
              "    .dataframe thead th {\n",
              "        text-align: right;\n",
              "    }\n",
              "</style>\n",
              "<table border=\"1\" class=\"dataframe\">\n",
              "  <thead>\n",
              "    <tr style=\"text-align: right;\">\n",
              "      <th></th>\n",
              "      <th>country</th>\n",
              "      <th>confederation</th>\n",
              "      <th>population_share</th>\n",
              "      <th>tv_audience_share</th>\n",
              "      <th>gdp_weighted_share</th>\n",
              "    </tr>\n",
              "  </thead>\n",
              "  <tbody>\n",
              "    <tr>\n",
              "      <th>0</th>\n",
              "      <td>United States</td>\n",
              "      <td>CONCACAF</td>\n",
              "      <td>4.5</td>\n",
              "      <td>4.3</td>\n",
              "      <td>11.3</td>\n",
              "    </tr>\n",
              "    <tr>\n",
              "      <th>1</th>\n",
              "      <td>Japan</td>\n",
              "      <td>AFC</td>\n",
              "      <td>1.9</td>\n",
              "      <td>4.9</td>\n",
              "      <td>9.1</td>\n",
              "    </tr>\n",
              "    <tr>\n",
              "      <th>2</th>\n",
              "      <td>China</td>\n",
              "      <td>AFC</td>\n",
              "      <td>19.5</td>\n",
              "      <td>14.8</td>\n",
              "      <td>7.3</td>\n",
              "    </tr>\n",
              "    <tr>\n",
              "      <th>3</th>\n",
              "      <td>Germany</td>\n",
              "      <td>UEFA</td>\n",
              "      <td>1.2</td>\n",
              "      <td>2.9</td>\n",
              "      <td>6.3</td>\n",
              "    </tr>\n",
              "    <tr>\n",
              "      <th>4</th>\n",
              "      <td>Brazil</td>\n",
              "      <td>CONMEBOL</td>\n",
              "      <td>2.8</td>\n",
              "      <td>7.1</td>\n",
              "      <td>5.4</td>\n",
              "    </tr>\n",
              "    <tr>\n",
              "      <th>...</th>\n",
              "      <td>...</td>\n",
              "      <td>...</td>\n",
              "      <td>...</td>\n",
              "      <td>...</td>\n",
              "      <td>...</td>\n",
              "    </tr>\n",
              "    <tr>\n",
              "      <th>186</th>\n",
              "      <td>Tonga</td>\n",
              "      <td>OFC</td>\n",
              "      <td>0.0</td>\n",
              "      <td>0.0</td>\n",
              "      <td>0.0</td>\n",
              "    </tr>\n",
              "    <tr>\n",
              "      <th>187</th>\n",
              "      <td>Liberia</td>\n",
              "      <td>CAF</td>\n",
              "      <td>0.1</td>\n",
              "      <td>0.0</td>\n",
              "      <td>0.0</td>\n",
              "    </tr>\n",
              "    <tr>\n",
              "      <th>188</th>\n",
              "      <td>Palau</td>\n",
              "      <td>OFC</td>\n",
              "      <td>0.0</td>\n",
              "      <td>0.0</td>\n",
              "      <td>0.0</td>\n",
              "    </tr>\n",
              "    <tr>\n",
              "      <th>189</th>\n",
              "      <td>Nauru</td>\n",
              "      <td>OFC</td>\n",
              "      <td>0.0</td>\n",
              "      <td>0.0</td>\n",
              "      <td>0.0</td>\n",
              "    </tr>\n",
              "    <tr>\n",
              "      <th>190</th>\n",
              "      <td>Niue</td>\n",
              "      <td>OFC</td>\n",
              "      <td>0.0</td>\n",
              "      <td>0.0</td>\n",
              "      <td>0.0</td>\n",
              "    </tr>\n",
              "  </tbody>\n",
              "</table>\n",
              "<p>191 rows × 5 columns</p>\n",
              "</div>\n",
              "      <button class=\"colab-df-convert\" onclick=\"convertToInteractive('df-c1ebf83b-0493-47de-8477-23a32ce0bf0f')\"\n",
              "              title=\"Convert this dataframe to an interactive table.\"\n",
              "              style=\"display:none;\">\n",
              "        \n",
              "  <svg xmlns=\"http://www.w3.org/2000/svg\" height=\"24px\"viewBox=\"0 0 24 24\"\n",
              "       width=\"24px\">\n",
              "    <path d=\"M0 0h24v24H0V0z\" fill=\"none\"/>\n",
              "    <path d=\"M18.56 5.44l.94 2.06.94-2.06 2.06-.94-2.06-.94-.94-2.06-.94 2.06-2.06.94zm-11 1L8.5 8.5l.94-2.06 2.06-.94-2.06-.94L8.5 2.5l-.94 2.06-2.06.94zm10 10l.94 2.06.94-2.06 2.06-.94-2.06-.94-.94-2.06-.94 2.06-2.06.94z\"/><path d=\"M17.41 7.96l-1.37-1.37c-.4-.4-.92-.59-1.43-.59-.52 0-1.04.2-1.43.59L10.3 9.45l-7.72 7.72c-.78.78-.78 2.05 0 2.83L4 21.41c.39.39.9.59 1.41.59.51 0 1.02-.2 1.41-.59l7.78-7.78 2.81-2.81c.8-.78.8-2.07 0-2.86zM5.41 20L4 18.59l7.72-7.72 1.47 1.35L5.41 20z\"/>\n",
              "  </svg>\n",
              "      </button>\n",
              "      \n",
              "  <style>\n",
              "    .colab-df-container {\n",
              "      display:flex;\n",
              "      flex-wrap:wrap;\n",
              "      gap: 12px;\n",
              "    }\n",
              "\n",
              "    .colab-df-convert {\n",
              "      background-color: #E8F0FE;\n",
              "      border: none;\n",
              "      border-radius: 50%;\n",
              "      cursor: pointer;\n",
              "      display: none;\n",
              "      fill: #1967D2;\n",
              "      height: 32px;\n",
              "      padding: 0 0 0 0;\n",
              "      width: 32px;\n",
              "    }\n",
              "\n",
              "    .colab-df-convert:hover {\n",
              "      background-color: #E2EBFA;\n",
              "      box-shadow: 0px 1px 2px rgba(60, 64, 67, 0.3), 0px 1px 3px 1px rgba(60, 64, 67, 0.15);\n",
              "      fill: #174EA6;\n",
              "    }\n",
              "\n",
              "    [theme=dark] .colab-df-convert {\n",
              "      background-color: #3B4455;\n",
              "      fill: #D2E3FC;\n",
              "    }\n",
              "\n",
              "    [theme=dark] .colab-df-convert:hover {\n",
              "      background-color: #434B5C;\n",
              "      box-shadow: 0px 1px 3px 1px rgba(0, 0, 0, 0.15);\n",
              "      filter: drop-shadow(0px 1px 2px rgba(0, 0, 0, 0.3));\n",
              "      fill: #FFFFFF;\n",
              "    }\n",
              "  </style>\n",
              "\n",
              "      <script>\n",
              "        const buttonEl =\n",
              "          document.querySelector('#df-c1ebf83b-0493-47de-8477-23a32ce0bf0f button.colab-df-convert');\n",
              "        buttonEl.style.display =\n",
              "          google.colab.kernel.accessAllowed ? 'block' : 'none';\n",
              "\n",
              "        async function convertToInteractive(key) {\n",
              "          const element = document.querySelector('#df-c1ebf83b-0493-47de-8477-23a32ce0bf0f');\n",
              "          const dataTable =\n",
              "            await google.colab.kernel.invokeFunction('convertToInteractive',\n",
              "                                                     [key], {});\n",
              "          if (!dataTable) return;\n",
              "\n",
              "          const docLinkHtml = 'Like what you see? Visit the ' +\n",
              "            '<a target=\"_blank\" href=https://colab.research.google.com/notebooks/data_table.ipynb>data table notebook</a>'\n",
              "            + ' to learn more about interactive tables.';\n",
              "          element.innerHTML = '';\n",
              "          dataTable['output_type'] = 'display_data';\n",
              "          await google.colab.output.renderOutput(dataTable, element);\n",
              "          const docLink = document.createElement('div');\n",
              "          docLink.innerHTML = docLinkHtml;\n",
              "          element.appendChild(docLink);\n",
              "        }\n",
              "      </script>\n",
              "    </div>\n",
              "  </div>\n",
              "  "
            ],
            "text/plain": [
              "           country confederation  ...  tv_audience_share  gdp_weighted_share\n",
              "0    United States      CONCACAF  ...                4.3                11.3\n",
              "1            Japan           AFC  ...                4.9                 9.1\n",
              "2            China           AFC  ...               14.8                 7.3\n",
              "3          Germany          UEFA  ...                2.9                 6.3\n",
              "4           Brazil      CONMEBOL  ...                7.1                 5.4\n",
              "..             ...           ...  ...                ...                 ...\n",
              "186          Tonga           OFC  ...                0.0                 0.0\n",
              "187        Liberia           CAF  ...                0.0                 0.0\n",
              "188          Palau           OFC  ...                0.0                 0.0\n",
              "189          Nauru           OFC  ...                0.0                 0.0\n",
              "190           Niue           OFC  ...                0.0                 0.0\n",
              "\n",
              "[191 rows x 5 columns]"
            ]
          },
          "metadata": {},
          "execution_count": 1
        }
      ],
      "source": [
        "#importing files from a url link\n",
        "import pandas as pd\n",
        "url = \"https://raw.githubusercontent.com/fivethirtyeight/data/master/fifa/fifa_countries_audience.csv\"\n",
        "my_data = pd.read_csv(url)\n",
        "my_data"
      ]
    },
    {
      "cell_type": "code",
      "source": [
        "#performing operations using numpy library\n",
        "import numpy as np\n",
        "my_rolls = np.random.randint(low = 1, high = 7, size = 60)\n",
        "print(my_rolls)"
      ],
      "metadata": {
        "colab": {
          "base_uri": "https://localhost:8080/"
        },
        "id": "I0dI8bKgCcKj",
        "outputId": "1982f422-5773-4bb6-c610-680da74342b2"
      },
      "execution_count": 3,
      "outputs": [
        {
          "output_type": "stream",
          "name": "stdout",
          "text": [
            "[3 4 3 2 5 4 6 1 4 1 6 4 5 1 2 3 6 2 1 6 4 5 6 5 5 2 3 6 2 1 1 4 1 6 3 5 2\n",
            " 3 6 2 1 3 1 5 5 4 2 5 1 2 4 4 6 6 6 5 4 6 2 3]\n"
          ]
        }
      ]
    },
    {
      "cell_type": "code",
      "source": [
        "#Summary statistics\n",
        "my_average = np.mean(my_rolls)\n",
        "my_max = np.max(my_rolls)\n",
        "my_min = np.min(my_rolls)\n",
        "sorted_rolls = np.sort(my_rolls)\n",
        "\n",
        "print(\"The average of this dataset is\", my_average)\n",
        "print(\"The maximum number in this dataset is\", my_max)\n",
        "print(\"The minimum number in this dataset is\",my_min)\n",
        "print(sorted_rolls)"
      ],
      "metadata": {
        "colab": {
          "base_uri": "https://localhost:8080/"
        },
        "id": "bo3gGBNdCd8q",
        "outputId": "bd180b4a-52f9-4809-dadc-1fd4f6a36f41"
      },
      "execution_count": 6,
      "outputs": [
        {
          "output_type": "stream",
          "name": "stdout",
          "text": [
            "The average of this dataset is 3.6\n",
            "The maximum number in this dataset is 6\n",
            "The minimum number in this dataset is 1\n",
            "[1 1 1 1 1 1 1 1 1 1 2 2 2 2 2 2 2 2 2 2 3 3 3 3 3 3 3 3 4 4 4 4 4 4 4 4 4\n",
            " 4 5 5 5 5 5 5 5 5 5 5 6 6 6 6 6 6 6 6 6 6 6 6]\n"
          ]
        }
      ]
    },
    {
      "cell_type": "code",
      "source": [
        "#unique values and comparison\n",
        "myrollsA = np.random.randint(low=1, high=7, size=60)\n",
        "print(myrollsA)\n",
        "myrollsB = np.random.randint(low=1, high=7, size=60)\n",
        "print(myrollsB)\n",
        "\n",
        "mysum_win  = np.sum(myrollsA > myrollsB)\n",
        "mysum_loss = np.sum(myrollsA < myrollsB)\n",
        "mysum_draw = np.sum(myrollsA == myrollsB)\n",
        "print(mysum_win)\n",
        "print(mysum_loss)\n",
        "print(mysum_draw)\n"
      ],
      "metadata": {
        "colab": {
          "base_uri": "https://localhost:8080/"
        },
        "id": "Go_YvIRnD_UW",
        "outputId": "f1444a10-957f-42a0-f4a6-581c85830b2f"
      },
      "execution_count": 7,
      "outputs": [
        {
          "output_type": "stream",
          "name": "stdout",
          "text": [
            "[1 4 3 2 1 5 3 4 5 3 2 1 3 5 3 4 5 2 4 1 1 1 6 4 1 3 1 4 5 4 6 5 5 2 3 1 1\n",
            " 5 1 2 2 1 1 4 2 5 1 5 1 4 2 1 5 3 5 1 4 5 4 2]\n",
            "[6 2 1 5 1 4 2 2 3 5 6 1 2 5 1 5 3 1 3 5 5 5 6 3 4 1 4 3 1 6 1 4 2 3 4 4 4\n",
            " 5 3 5 3 3 1 2 6 4 2 2 3 6 6 2 4 3 1 1 1 6 5 4]\n",
            "24\n",
            "28\n",
            "8\n"
          ]
        }
      ]
    }
  ]
}