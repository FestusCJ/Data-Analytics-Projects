{
  "cells": [
    {
      "cell_type": "markdown",
      "metadata": {
        "id": "view-in-github",
        "colab_type": "text"
      },
      "source": [
        "<a href=\"https://colab.research.google.com/github/FestusCJ/Data-Analytics-Projects/blob/master/Festus_FutureLearn_IfElseTask.ipynb\" target=\"_parent\"><img src=\"https://colab.research.google.com/assets/colab-badge.svg\" alt=\"Open In Colab\"/></a>"
      ]
    },
    {
      "cell_type": "markdown",
      "metadata": {
        "id": "cSg_UrbHLBmC"
      },
      "source": [
        "<img src=\"https://assets.futurelearn.com/packs/app/assets/images/fl_logo-f9d7f37a61915a2fbf8a26cbb285fed0.svg\"/>"
      ]
    },
    {
      "cell_type": "markdown",
      "metadata": {
        "id": "9suGnjIRLBmI"
      },
      "source": [
        "# Get ready for a Masters in Data Science and Artificial Intelligence\n",
        "\n",
        "The following notebook is intended for use after reading the step listed below.\n",
        "\n",
        "The following tasks are designed to test your knowledge on what we have learned during the current step, make sure to read each section carefully and then edit the code cells to fit the requirements. \n",
        "\n",
        "You are encouraged to ask other students for peer feedback from the tutorials, this provides valuable insight and can show you different methods to complete the same task.\n",
        "\n",
        "Try to complete the tasks by yourself, but if you would like some help you can either:\n",
        "- Look back at the content for this step on Future Learn.\n",
        "- Ask another student how they completed the task.\n",
        "- Use Google to your advantage!"
      ]
    },
    {
      "cell_type": "markdown",
      "metadata": {
        "id": "lWq1IZYGLBmJ"
      },
      "source": [
        "# Conditional Statements"
      ]
    },
    {
      "cell_type": "markdown",
      "metadata": {
        "id": "OypR4VwCLBmK"
      },
      "source": [
        "### Task 1 - Simple If Statement\n",
        "For this task you will do the following:\n",
        "\n",
        "- Fill in the Condition brackets of the if statement and get the print statement to run!"
      ]
    },
    {
      "cell_type": "code",
      "execution_count": 4,
      "metadata": {
        "colab": {
          "base_uri": "https://localhost:8080/"
        },
        "id": "X_irAtMWLBmK",
        "outputId": "c590268d-2614-497c-839c-e46660d9be0d"
      },
      "outputs": [
        {
          "output_type": "stream",
          "name": "stdout",
          "text": [
            "It is False!\n"
          ]
        }
      ],
      "source": [
        "BoolVariable = False\n",
        "\n",
        "if (BoolVariable == False): #<<<<<Fill in\n",
        "    print(\"It is False!\")\n"
      ]
    },
    {
      "cell_type": "markdown",
      "metadata": {
        "id": "FFlWu23QLBmM"
      },
      "source": [
        "### Task 2\n",
        "For this task we've imported a Random number generator, we will go over how this is possible in a later step, but for now you will do the following:\n",
        "\n",
        "\n",
        "- Use an If statement to check if the value of `RandomNumber` is greater than 20\n",
        "- If so, print a custom message!\n"
      ]
    },
    {
      "cell_type": "code",
      "execution_count": 8,
      "metadata": {
        "colab": {
          "base_uri": "https://localhost:8080/"
        },
        "id": "avAbLRF3LBmM",
        "outputId": "50590887-549c-4213-ba99-3d1990ca8278"
      },
      "outputs": [
        {
          "output_type": "stream",
          "name": "stdout",
          "text": [
            "The random number is 29\n",
            "Which is definitely greater than 20\n"
          ]
        }
      ],
      "source": [
        "import random\n",
        "RandomNumber = random.randint(0,40) #Chooses a random number between 0 and 40!\n",
        "print(\"The random number is \" + str(RandomNumber)) #Convert our RandomNumber to a string and print what it is (We will be going over what this means in a later step)\n",
        "\n",
        "#Your code goes below here!\n",
        "\n",
        "if (RandomNumber > 20):\n",
        "  print(\"Which is definitely greater than 20\")"
      ]
    },
    {
      "cell_type": "markdown",
      "metadata": {
        "id": "FuJ5cGi7LBmO"
      },
      "source": [
        "### Task 3\n",
        "For this task, we are generating a random number again, you will do the following:\n",
        "\n",
        "- Use an `If` and an `Elif` statement to `print()` one message if the number is positive, and another if negative."
      ]
    },
    {
      "cell_type": "code",
      "execution_count": 10,
      "metadata": {
        "colab": {
          "base_uri": "https://localhost:8080/"
        },
        "id": "2Bo63vtzLBmO",
        "outputId": "e008fa3e-55d9-4370-c588-00778d3c1b75"
      },
      "outputs": [
        {
          "output_type": "stream",
          "name": "stdout",
          "text": [
            "The random number is 4\n",
            "This number is positive\n"
          ]
        }
      ],
      "source": [
        "import random\n",
        "RandomNumber = random.randint(-40,40) #Chooses a random number between 0 and 40!\n",
        "print(\"The random number is \" + str(RandomNumber)) #Convert our RandomNumber to a string and print what it is (We will be going over what this means in a later step)\n",
        "\n",
        "#Your code goes below here!\n",
        "if(RandomNumber > 0):\n",
        "  print(\"This number is positive\")\n",
        "elif(RandomNumber < 0):\n",
        "  print(\"This number is negative\")\n",
        "\n"
      ]
    },
    {
      "cell_type": "markdown",
      "metadata": {
        "id": "tc4NkewmLBmP"
      },
      "source": [
        "### Task 4\n",
        "For this task, we will be grabbing the users input when we run the cell, you will do the following:\n",
        "- Check if the `NameInput` variable is equal to your name\n",
        "- If the input is your name, Print a custom message which includes your name!\n",
        "- If it is not your name, print a different message which includes their name!\n",
        "\n",
        "When you are done, Run the cell to see if it works!\n",
        "\n",
        "*Hint: Remember how in the last step we were able to add strings together?*"
      ]
    },
    {
      "cell_type": "code",
      "execution_count": 12,
      "metadata": {
        "colab": {
          "base_uri": "https://localhost:8080/"
        },
        "id": "WcZv7f4QLBmQ",
        "outputId": "b98ca802-e7ad-4666-9bee-1e3d3db4feae"
      },
      "outputs": [
        {
          "output_type": "stream",
          "name": "stdout",
          "text": [
            "What is your name?: Anthony\n",
            "it's a pleasure to meet you, Anthony\n"
          ]
        }
      ],
      "source": [
        "NameInput = input(\"What is your name?: \")\n",
        "\n",
        "#Your code goes below here!\n",
        "if(NameInput == \"Festus\"):\n",
        "  print(\"Hi, \" + NameInput)\n",
        "else:\n",
        "  print(\"it's a pleasure to meet you, \" + NameInput)\n",
        "  \n",
        "\n",
        "  "
      ]
    },
    {
      "cell_type": "markdown",
      "metadata": {
        "id": "a6KU9lvWLBmQ"
      },
      "source": [
        "# Answers\n",
        "The answers to the above tasks are listed below this cell, before looking down here, make sure you've had a real good try at the tasks above!\n",
        "```\n",
        "\n",
        "\n",
        "\n",
        "\n",
        "\n",
        "\n",
        "\n",
        "\n",
        "\n",
        "\n",
        "\n",
        "\n",
        "\n",
        "\n",
        "\n",
        "\n",
        "\n",
        "\n",
        "\n",
        "\n",
        "\n",
        "\n",
        "\n",
        "\n",
        "\n",
        "\n",
        "\n",
        "\n",
        "\n",
        "\n",
        "\n",
        "\n",
        "\n",
        "\n",
        "\n",
        "\n",
        "\n",
        "\n",
        "\n",
        "\n",
        "\n",
        "```\n",
        "\n",
        "\n",
        "\n"
      ]
    },
    {
      "cell_type": "markdown",
      "metadata": {
        "id": "HmBtJwe6LBmR"
      },
      "source": [
        "### Task 1 - Simple If Statement\n",
        "For this task you will do the following:\n",
        "\n",
        "- Fill in the Condition brackets of the if statement and get the print statement to run!"
      ]
    },
    {
      "cell_type": "code",
      "execution_count": null,
      "metadata": {
        "id": "25cIirhoLBmS",
        "outputId": "3ffa7470-f668-4f4b-af8a-e055ae01325e"
      },
      "outputs": [
        {
          "name": "stdout",
          "output_type": "stream",
          "text": [
            "It is False!\n"
          ]
        }
      ],
      "source": [
        "BoolVariable = False\n",
        "\n",
        "if (BoolVariable == False): #<<<<<Fill in\n",
        "    print(\"It is False!\")\n"
      ]
    },
    {
      "cell_type": "markdown",
      "metadata": {
        "id": "DMxc-1_oLBmT"
      },
      "source": [
        "### Task 2\n",
        "For this task we've imported a Random number generator, we will go over how to do this in a later step, but for now you will do the following:\n",
        "\n",
        "\n",
        "- Use an If statement to check if the value of `RandomNumber` is greater than 20\n",
        "- If so, print a custom message!\n"
      ]
    },
    {
      "cell_type": "code",
      "execution_count": null,
      "metadata": {
        "id": "iDgfNWznLBmT",
        "outputId": "a4aca2bf-2796-44fb-a095-811830293eef"
      },
      "outputs": [
        {
          "name": "stdout",
          "output_type": "stream",
          "text": [
            "The random number is 32\n",
            "Which is higher than 20!\n"
          ]
        }
      ],
      "source": [
        "import random\n",
        "RandomNumber = random.randint(0,40) #Chooses a random number between 0 and 40!\n",
        "print(\"The random number is \" + str(RandomNumber)) #Convert our RandomNumber to a string and print what it is (We will be going over what this means in a later step)\n",
        "\n",
        "#Your code goes below here!\n",
        "if(RandomNumber > 20):\n",
        "    print(\"Which is higher than 20!\")\n"
      ]
    },
    {
      "cell_type": "markdown",
      "metadata": {
        "id": "MVJAwv6_LBmT"
      },
      "source": [
        "### Task 3\n",
        "For this task, we are generating a random number again, you will do the following:\n",
        "\n",
        "- Use an `If` and an `Elif` statement to `print()` one message if the number is positive, and another if negative."
      ]
    },
    {
      "cell_type": "code",
      "execution_count": null,
      "metadata": {
        "id": "jo5UDoKeLBmU",
        "outputId": "8a2bf754-b6fa-49c6-c965-bb233503b3e7"
      },
      "outputs": [
        {
          "name": "stdout",
          "output_type": "stream",
          "text": [
            "The random number is 39\n",
            "The number is Positive!\n"
          ]
        }
      ],
      "source": [
        "import random\n",
        "RandomNumber = random.randint(-40,40) #Chooses a random number between 0 and 40!\n",
        "print(\"The random number is \" + str(RandomNumber)) #Convert our RandomNumber to a string and print what it is (We will be going over what this means in a later step)\n",
        "\n",
        "#Your code goes below here!\n",
        "if(RandomNumber > 0):\n",
        "    print(\"The number is Positive!\")\n",
        "elif(RandomNumber < 0):\n",
        "    print(\"The number is Negative!\")\n"
      ]
    },
    {
      "cell_type": "markdown",
      "metadata": {
        "id": "NiXL9IBnLBmU"
      },
      "source": [
        "### Task 4\n",
        "For this task, we will be grabbing the users input when we run the cell, you will do the following:\n",
        "- Check if the `NameInput` variable is equal to your name\n",
        "- If the input is your name, Print a custom message which includes your name!\n",
        "- If it is not your name, print a different message which includes their name!\n",
        "\n",
        "When you are done, Run the cell to see if it works!\n",
        "\n",
        "*Hint: Remember how in the last step we were able to add strings together?*"
      ]
    },
    {
      "cell_type": "code",
      "execution_count": null,
      "metadata": {
        "id": "v9a1B5rDLBmV",
        "outputId": "9ea5c927-2600-4a80-8f7e-7985606ac6c8"
      },
      "outputs": [
        {
          "name": "stdout",
          "output_type": "stream",
          "text": [
            "What is your name?: Daniel\n",
            "Welcome back, Daniel\n"
          ]
        }
      ],
      "source": [
        "NameInput = input(\"What is your name?: \")\n",
        "\n",
        "#Your code goes below here!\n",
        "\n",
        "if(NameInput == \"Daniel\"):\n",
        "    print(\"Welcome back, \" + NameInput)\n",
        "    \n",
        "else:\n",
        "    print(\"Nice to meet you, \" + NameInput)"
      ]
    }
  ],
  "metadata": {
    "kernelspec": {
      "display_name": "Python 3",
      "language": "python",
      "name": "python3"
    },
    "language_info": {
      "codemirror_mode": {
        "name": "ipython",
        "version": 3
      },
      "file_extension": ".py",
      "mimetype": "text/x-python",
      "name": "python",
      "nbconvert_exporter": "python",
      "pygments_lexer": "ipython3",
      "version": "3.7.1"
    },
    "colab": {
      "name": "IfElseTask.ipynb",
      "provenance": [],
      "include_colab_link": true
    }
  },
  "nbformat": 4,
  "nbformat_minor": 0
}