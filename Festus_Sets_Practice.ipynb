{
  "nbformat": 4,
  "nbformat_minor": 0,
  "metadata": {
    "colab": {
      "name": "Untitled3.ipynb",
      "provenance": [],
      "authorship_tag": "ABX9TyMPc3GXsLCmkXkMweVSr6tt",
      "include_colab_link": true
    },
    "kernelspec": {
      "name": "python3",
      "display_name": "Python 3"
    },
    "language_info": {
      "name": "python"
    }
  },
  "cells": [
    {
      "cell_type": "markdown",
      "metadata": {
        "id": "view-in-github",
        "colab_type": "text"
      },
      "source": [
        "<a href=\"https://colab.research.google.com/github/FestusCJ/Data-Analytics-Projects/blob/master/Festus_Sets_Practice.ipynb\" target=\"_parent\"><img src=\"https://colab.research.google.com/assets/colab-badge.svg\" alt=\"Open In Colab\"/></a>"
      ]
    },
    {
      "cell_type": "code",
      "execution_count": 4,
      "metadata": {
        "colab": {
          "base_uri": "https://localhost:8080/"
        },
        "id": "hnchJbWk9A6e",
        "outputId": "b322fc29-2997-4f7e-937e-8040980120e4"
      },
      "outputs": [
        {
          "output_type": "stream",
          "name": "stdout",
          "text": [
            "{'oven', 'dishwasher', 'sink'}\n",
            "Yes, an oven is in the kitchen\n",
            "True\n",
            "False\n"
          ]
        }
      ],
      "source": [
        "#Representing concepts mathematically\n",
        "#Just as in mathematics, in Python we recognise a set from the curly brackets { }\n",
        "#The elements of a set have no order, meaning there is no first element\n",
        "kitchen = {'sink', 'oven', 'dishwasher'}\n",
        "print(kitchen)\n",
        "if 'oven' in kitchen:\n",
        "  print(\"Yes, an oven is in the kitchen\")\n",
        "print('toaster' not in kitchen)\n",
        "print('toaster' in kitchen)"
      ]
    },
    {
      "cell_type": "code",
      "source": [
        "#Adding and discarding elements from sets\n",
        "kitchen.add('fridge')\n",
        "print(kitchen)\n",
        "kitchen.discard('dishwasher')\n",
        "print(kitchen)"
      ],
      "metadata": {
        "colab": {
          "base_uri": "https://localhost:8080/"
        },
        "id": "znY1aYjq958W",
        "outputId": "41e07831-4f41-47d5-8028-fe346c10b07c"
      },
      "execution_count": 2,
      "outputs": [
        {
          "output_type": "stream",
          "name": "stdout",
          "text": [
            "{'oven', 'fridge', 'dishwasher', 'sink'}\n",
            "{'oven', 'fridge', 'sink'}\n"
          ]
        }
      ]
    },
    {
      "cell_type": "code",
      "source": [
        "#Testing if one set is a subset of another set, constructing unions and intersections\n",
        "bathroom = {'sink', 'shower', 'toilet'}\n",
        "print(kitchen.issubset(bathroom))\n",
        "house = kitchen.union(bathroom)\n",
        "print(house)\n",
        "print(kitchen.issubset(house))\n",
        "mystery = kitchen.intersection(bathroom)\n",
        "print(mystery)"
      ],
      "metadata": {
        "colab": {
          "base_uri": "https://localhost:8080/"
        },
        "id": "2QyQfHuR-gkb",
        "outputId": "1f11eea2-0483-42a8-be1a-fd9d6b7a1b56"
      },
      "execution_count": 3,
      "outputs": [
        {
          "output_type": "stream",
          "name": "stdout",
          "text": [
            "False\n",
            "{'sink', 'oven', 'shower', 'toilet', 'fridge'}\n",
            "True\n",
            "{'sink'}\n"
          ]
        }
      ]
    },
    {
      "cell_type": "code",
      "source": [
        ""
      ],
      "metadata": {
        "id": "eUpMwg5Z_QfM"
      },
      "execution_count": null,
      "outputs": []
    }
  ]
}