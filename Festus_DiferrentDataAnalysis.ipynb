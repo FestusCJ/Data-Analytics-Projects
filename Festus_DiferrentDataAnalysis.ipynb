{
  "nbformat": 4,
  "nbformat_minor": 0,
  "metadata": {
    "colab": {
      "name": "Untitled6.ipynb",
      "provenance": [],
      "authorship_tag": "ABX9TyNGitnfIj0EZMMNUqIuqPHw",
      "include_colab_link": true
    },
    "kernelspec": {
      "name": "python3",
      "display_name": "Python 3"
    },
    "language_info": {
      "name": "python"
    }
  },
  "cells": [
    {
      "cell_type": "markdown",
      "metadata": {
        "id": "view-in-github",
        "colab_type": "text"
      },
      "source": [
        "<a href=\"https://colab.research.google.com/github/FestusCJ/Data-Analytics-Projects/blob/master/Festus_DiferrentDataAnalysis.ipynb\" target=\"_parent\"><img src=\"https://colab.research.google.com/assets/colab-badge.svg\" alt=\"Open In Colab\"/></a>"
      ]
    },
    {
      "cell_type": "code",
      "execution_count": 1,
      "metadata": {
        "id": "-MzKoQV9R2R0"
      },
      "outputs": [],
      "source": [
        "#Analyis different kinds of data\n",
        "data = {\n",
        "  1: {'Age': 42, 'Full Name': 'Alishia Ford', 'Fever': True},\n",
        "  2: {'Age': 20, 'Full Name': 'Morgan Derrick', 'Fever': True},\n",
        "  3: {'Age': 65, 'Full Name': 'Ronny West', 'Fever': False}\n",
        "}"
      ]
    },
    {
      "cell_type": "code",
      "source": [
        "#compute percentage of those who reported fever\n",
        "fever = [key for key in data if data[key]['Fever']]\n",
        "fever_percentage = float(len(fever)) / len(data)\n",
        "print(fever_percentage)"
      ],
      "metadata": {
        "colab": {
          "base_uri": "https://localhost:8080/"
        },
        "id": "jMslLcU7S8cT",
        "outputId": "8db5c59d-f77b-46f5-ce00-cca0a888ad1f"
      },
      "execution_count": 5,
      "outputs": [
        {
          "output_type": "stream",
          "name": "stdout",
          "text": [
            "0.6666666666666666\n"
          ]
        }
      ]
    },
    {
      "cell_type": "code",
      "source": [
        "#average length of name in dataset\n",
        "names = [data[key]['Full Name'].split() for key in data]\n",
        "first_name_lengths = [len(name[0]) for name in names]\n",
        "avg_length = float(sum(first_name_lengths)) / len(first_name_lengths)\n",
        "print(avg_length)"
      ],
      "metadata": {
        "colab": {
          "base_uri": "https://localhost:8080/"
        },
        "id": "0eEzRRHFTIGB",
        "outputId": "d90398d1-9021-421f-9f68-af3baf968cdf"
      },
      "execution_count": 7,
      "outputs": [
        {
          "output_type": "stream",
          "name": "stdout",
          "text": [
            "6.0\n"
          ]
        }
      ]
    },
    {
      "cell_type": "code",
      "source": [
        ""
      ],
      "metadata": {
        "id": "iAtAhtTDTf1k"
      },
      "execution_count": null,
      "outputs": []
    }
  ]
}