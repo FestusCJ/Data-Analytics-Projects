{
  "nbformat": 4,
  "nbformat_minor": 0,
  "metadata": {
    "colab": {
      "name": "Untitled2.ipynb",
      "provenance": [],
      "authorship_tag": "ABX9TyPZbBkeofenjDmtVNok9of7",
      "include_colab_link": true
    },
    "kernelspec": {
      "name": "python3",
      "display_name": "Python 3"
    },
    "language_info": {
      "name": "python"
    }
  },
  "cells": [
    {
      "cell_type": "markdown",
      "metadata": {
        "id": "view-in-github",
        "colab_type": "text"
      },
      "source": [
        "<a href=\"https://colab.research.google.com/github/FestusCJ/Data-Analytics-Projects/blob/master/Festus_DataTransformationPractice.ipynb\" target=\"_parent\"><img src=\"https://colab.research.google.com/assets/colab-badge.svg\" alt=\"Open In Colab\"/></a>"
      ]
    },
    {
      "cell_type": "code",
      "execution_count": 1,
      "metadata": {
        "id": "Egih0kHIljVF"
      },
      "outputs": [],
      "source": [
        "#scaling values to between zero and one\n",
        "height = np.array([0.86,2.02,1.87,1.44,1.80])\n",
        "scaled_height = (height-np.min(height))/(np.max(height)-np.min(height))\n",
        "print(scaled_height)"
      ]
    },
    {
      "cell_type": "code",
      "source": [
        "#centring and standardizing\n",
        "import numpy as np\n",
        "weight = np.array([15,112,106,91,85])\n",
        "centered_weight = weight - np.mean(weight)\n",
        "standardised_weight = (weight-np.mean(weight))/np.std(weight)\n",
        "print(np.mean(weight))\n",
        "print(centered_weight)\n",
        "print(standardised_weight)"
      ],
      "metadata": {
        "colab": {
          "base_uri": "https://localhost:8080/"
        },
        "id": "cuqt7QGXlnH8",
        "outputId": "8ba3e87d-42b2-4796-bf8a-d09a459b9c43"
      },
      "execution_count": 3,
      "outputs": [
        {
          "output_type": "stream",
          "name": "stdout",
          "text": [
            "81.8\n",
            "[-66.8  30.2  24.2   9.2   3.2]\n",
            "[-1.91960363  0.86784476  0.69542527  0.26437655  0.09195706]\n"
          ]
        }
      ]
    },
    {
      "cell_type": "code",
      "source": [
        "#constructing new variable from old\n",
        "height = np.array([0.87,2.02,1.87,1.78,1.80])\n",
        "weight = np.array([15,112,106,91,85])\n",
        "bmi = weight/(height**2)\n",
        "print(bmi)"
      ],
      "metadata": {
        "colab": {
          "base_uri": "https://localhost:8080/"
        },
        "id": "Fh8glkj1lvSN",
        "outputId": "e0eab067-3f4e-4078-d3eb-cef8d62fe406"
      },
      "execution_count": 4,
      "outputs": [
        {
          "output_type": "stream",
          "name": "stdout",
          "text": [
            "[19.81767737 27.44828938 30.31256256 28.72112107 26.2345679 ]\n"
          ]
        }
      ]
    },
    {
      "cell_type": "code",
      "source": [
        ""
      ],
      "metadata": {
        "id": "N4y1P6jPl-YO"
      },
      "execution_count": null,
      "outputs": []
    }
  ]
}