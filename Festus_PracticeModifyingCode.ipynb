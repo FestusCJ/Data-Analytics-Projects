{
  "nbformat": 4,
  "nbformat_minor": 0,
  "metadata": {
    "colab": {
      "name": "Untitled1.ipynb",
      "provenance": [],
      "authorship_tag": "ABX9TyMvfe6SbOJAFhJgCmmoTlMX",
      "include_colab_link": true
    },
    "kernelspec": {
      "name": "python3",
      "display_name": "Python 3"
    },
    "language_info": {
      "name": "python"
    }
  },
  "cells": [
    {
      "cell_type": "markdown",
      "metadata": {
        "id": "view-in-github",
        "colab_type": "text"
      },
      "source": [
        "<a href=\"https://colab.research.google.com/github/FestusCJ/Data-Analytics-Projects/blob/master/Festus_PracticeModifyingCode.ipynb\" target=\"_parent\"><img src=\"https://colab.research.google.com/assets/colab-badge.svg\" alt=\"Open In Colab\"/></a>"
      ]
    },
    {
      "cell_type": "code",
      "execution_count": 1,
      "metadata": {
        "colab": {
          "base_uri": "https://localhost:8080/"
        },
        "id": "YbGk9N9Ugf36",
        "outputId": "93d60f79-6eab-4d83-a8c2-8d728cc744b0"
      },
      "outputs": [
        {
          "output_type": "stream",
          "name": "stdout",
          "text": [
            "34978\n"
          ]
        }
      ],
      "source": [
        "#practice modyfying code using grime dice\n",
        "#data used are:\n",
        "#The RED dice has its faces labelled [3,3,3,3,3,6]\n",
        "#The BLUE dice has its faces labelled [2,2,2,5,5,5]\n",
        "#The GREEN dice has its faces labelled [1,4,4,4,4,4]\n",
        "import numpy as np\n",
        "#comparing red and blue dice\n",
        "myrollsA = np.random.choice([3,3,3,3,3,6], size=60000)\n",
        "myrollsB = np.random.choice([2,2,2,5,5,5], size=60000)\n",
        "mysum_win  = np.sum(myrollsA > myrollsB)\n",
        "print(mysum_win)"
      ]
    },
    {
      "cell_type": "code",
      "source": [
        "#comparing blue and green dice\n",
        "myrollsB = np.random.choice([2,2,2,5,5,5], size=60000)\n",
        "myrollsC = np.random.choice([1,4,4,4,4,4], size=60000)\n",
        "mysum_win2  = np.sum(myrollsB > myrollsC)\n",
        "print(mysum_win2)"
      ],
      "metadata": {
        "colab": {
          "base_uri": "https://localhost:8080/"
        },
        "id": "dzBcCApXg_o7",
        "outputId": "0bf77221-a004-47fe-cfda-de6b1aaa867a"
      },
      "execution_count": 3,
      "outputs": [
        {
          "output_type": "stream",
          "name": "stdout",
          "text": [
            "35033\n"
          ]
        }
      ]
    },
    {
      "cell_type": "code",
      "source": [
        "#comparing red and green dice\n",
        "mysum_win3  = np.sum(myrollsC > myrollsA)\n",
        "print(mysum_win3)"
      ],
      "metadata": {
        "colab": {
          "base_uri": "https://localhost:8080/"
        },
        "id": "dTskzr2mhzVM",
        "outputId": "42f129d1-07d6-4d06-d382-5a9d0947e2c5"
      },
      "execution_count": 5,
      "outputs": [
        {
          "output_type": "stream",
          "name": "stdout",
          "text": [
            "41693\n"
          ]
        }
      ]
    },
    {
      "cell_type": "code",
      "source": [
        ""
      ],
      "metadata": {
        "id": "yvXm-G1AiV7z"
      },
      "execution_count": null,
      "outputs": []
    }
  ]
}