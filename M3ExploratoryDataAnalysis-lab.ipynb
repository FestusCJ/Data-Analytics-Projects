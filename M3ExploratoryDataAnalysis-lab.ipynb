{
    "cells": [
        {
            "metadata": {},
            "cell_type": "markdown",
            "source": "<center>\n    <img src=\"https://gitlab.com/ibm/skills-network/courses/placeholder101/-/raw/master/labs/module%201/images/IDSNlogo.png\" width=\"300\" alt=\"cognitiveclass.ai logo\"  />\n</center>\n"
        },
        {
            "metadata": {},
            "cell_type": "markdown",
            "source": "# **Exploratory Data Analysis Lab**\n"
        },
        {
            "metadata": {},
            "cell_type": "markdown",
            "source": "Estimated time needed: **30** minutes\n"
        },
        {
            "metadata": {},
            "cell_type": "markdown",
            "source": "In this module you get to work with the cleaned dataset from the previous module.\n\nIn this assignment you will perform the task of exploratory data analysis.\nYou will find out the distribution of data, presence of outliers and also determine the correlation between different columns in the dataset.\n"
        },
        {
            "metadata": {},
            "cell_type": "markdown",
            "source": "## Objectives\n"
        },
        {
            "metadata": {},
            "cell_type": "markdown",
            "source": "In this lab you will perform the following:\n"
        },
        {
            "metadata": {},
            "cell_type": "markdown",
            "source": "*   Identify the distribution of data in the dataset.\n\n*   Identify outliers in the dataset.\n\n*   Remove outliers from the dataset.\n\n*   Identify correlation between features in the dataset.\n"
        },
        {
            "metadata": {},
            "cell_type": "markdown",
            "source": "***\n"
        },
        {
            "metadata": {},
            "cell_type": "markdown",
            "source": "## Hands on Lab\n"
        },
        {
            "metadata": {},
            "cell_type": "markdown",
            "source": "Import the pandas module.\n"
        },
        {
            "metadata": {},
            "cell_type": "code",
            "source": "import pandas as pd",
            "execution_count": 4,
            "outputs": []
        },
        {
            "metadata": {},
            "cell_type": "markdown",
            "source": "Load the dataset into a dataframe.\n"
        },
        {
            "metadata": {},
            "cell_type": "code",
            "source": "df = pd.read_csv(\"https://cf-courses-data.s3.us.cloud-object-storage.appdomain.cloud/IBM-DA0321EN-SkillsNetwork/LargeData/m2_survey_data.csv\")",
            "execution_count": 5,
            "outputs": []
        },
        {
            "metadata": {},
            "cell_type": "markdown",
            "source": "## Distribution\n"
        },
        {
            "metadata": {},
            "cell_type": "markdown",
            "source": "### Determine how the data is distributed\n"
        },
        {
            "metadata": {},
            "cell_type": "markdown",
            "source": "The column `ConvertedComp` contains Salary converted to annual USD salaries using the exchange rate on 2019-02-01.\n\nThis assumes 12 working months and 50 working weeks.\n"
        },
        {
            "metadata": {},
            "cell_type": "markdown",
            "source": "Plot the distribution curve for the column `ConvertedComp`.\n"
        },
        {
            "metadata": {},
            "cell_type": "code",
            "source": "#import relevant libraries\nimport numpy as np\nimport matplotlib.pyplot as plt\nimport seaborn as sns\n%matplotlib inline",
            "execution_count": 6,
            "outputs": []
        },
        {
            "metadata": {},
            "cell_type": "code",
            "source": "#plotting the distribution curve for ConvertedComp\nsns.displot(data = df, x = 'ConvertedComp', kind = \"kde\")",
            "execution_count": 7,
            "outputs": [
                {
                    "output_type": "execute_result",
                    "execution_count": 7,
                    "data": {
                        "text/plain": "<seaborn.axisgrid.FacetGrid at 0x7f6aaeb7f790>"
                    },
                    "metadata": {}
                },
                {
                    "output_type": "display_data",
                    "data": {
                        "text/plain": "<Figure size 360x360 with 1 Axes>",
                        "image/png": "[encoded data removed]"
                    },
                    "metadata": {
                        "needs_background": "light"
                    }
                }
            ]
        },
        {
            "metadata": {},
            "cell_type": "markdown",
            "source": "Plot the histogram for the column `ConvertedComp`.\n"
        },
        {
            "metadata": {},
            "cell_type": "code",
            "source": "# your code goes here\nsns.histplot(data = df, x = 'ConvertedComp')",
            "execution_count": 8,
            "outputs": [
                {
                    "output_type": "execute_result",
                    "execution_count": 8,
                    "data": {
                        "text/plain": "<AxesSubplot:xlabel='ConvertedComp', ylabel='Count'>"
                    },
                    "metadata": {}
                },
                {
                    "output_type": "display_data",
                    "data": {
                        "text/plain": "<Figure size 432x288 with 1 Axes>",
                        "image/png": "[encoded data removed]"
                    },
                    "metadata": {
                        "needs_background": "light"
                    }
                }
            ]
        },
        {
            "metadata": {},
            "cell_type": "markdown",
            "source": "What is the median of the column `ConvertedComp`?\n"
        },
        {
            "metadata": {},
            "cell_type": "code",
            "source": "# your code goes here\ndf.ConvertedComp.median()",
            "execution_count": 9,
            "outputs": [
                {
                    "output_type": "execute_result",
                    "execution_count": 9,
                    "data": {
                        "text/plain": "57745.0"
                    },
                    "metadata": {}
                }
            ]
        },
        {
            "metadata": {},
            "cell_type": "markdown",
            "source": "How many responders identified themselves only as a **Man**?\n"
        },
        {
            "metadata": {},
            "cell_type": "code",
            "source": "# your code goes here\ndf.Gender.value_counts()",
            "execution_count": 10,
            "outputs": [
                {
                    "output_type": "execute_result",
                    "execution_count": 10,
                    "data": {
                        "text/plain": "Man                                                            10480\nWoman                                                            731\nNon-binary, genderqueer, or gender non-conforming                 63\nMan;Non-binary, genderqueer, or gender non-conforming             26\nWoman;Non-binary, genderqueer, or gender non-conforming           14\nWoman;Man                                                          9\nWoman;Man;Non-binary, genderqueer, or gender non-conforming        2\nName: Gender, dtype: int64"
                    },
                    "metadata": {}
                }
            ]
        },
        {
            "metadata": {},
            "cell_type": "markdown",
            "source": "Find out the  median ConvertedComp of responders identified themselves only as a **Woman**?\n"
        },
        {
            "metadata": {
                "scrolled": true
            },
            "cell_type": "code",
            "source": "# your code goes here\n#median ConvertedComp of responders who identify as woman\ndf.loc[df['Gender'] == 'Woman', ['ConvertedComp']].median()\n",
            "execution_count": 11,
            "outputs": [
                {
                    "output_type": "execute_result",
                    "execution_count": 11,
                    "data": {
                        "text/plain": "ConvertedComp    57708.0\ndtype: float64"
                    },
                    "metadata": {}
                }
            ]
        },
        {
            "metadata": {},
            "cell_type": "code",
            "source": "# Another option gives you a broad result\ndf.groupby('Gender')['ConvertedComp'].median().to_frame()",
            "execution_count": 12,
            "outputs": [
                {
                    "output_type": "execute_result",
                    "execution_count": 12,
                    "data": {
                        "text/plain": "                                                    ConvertedComp\nGender                                                           \nMan                                                       57744.0\nMan;Non-binary, genderqueer, or gender non-conf...        59520.0\nNon-binary, genderqueer, or gender non-conforming         67142.0\nWoman                                                     57708.0\nWoman;Man                                                 21648.0\nWoman;Man;Non-binary, genderqueer, or gender no...        30244.0\nWoman;Non-binary, genderqueer, or gender non-co...        65535.5",
                        "text/html": "<div>\n<style scoped>\n    .dataframe tbody tr th:only-of-type {\n        vertical-align: middle;\n    }\n\n    .dataframe tbody tr th {\n        vertical-align: top;\n    }\n\n    .dataframe thead th {\n        text-align: right;\n    }\n</style>\n<table border=\"1\" class=\"dataframe\">\n  <thead>\n    <tr style=\"text-align: right;\">\n      <th></th>\n      <th>ConvertedComp</th>\n    </tr>\n    <tr>\n      <th>Gender</th>\n      <th></th>\n    </tr>\n  </thead>\n  <tbody>\n    <tr>\n      <th>Man</th>\n      <td>57744.0</td>\n    </tr>\n    <tr>\n      <th>Man;Non-binary, genderqueer, or gender non-conforming</th>\n      <td>59520.0</td>\n    </tr>\n    <tr>\n      <th>Non-binary, genderqueer, or gender non-conforming</th>\n      <td>67142.0</td>\n    </tr>\n    <tr>\n      <th>Woman</th>\n      <td>57708.0</td>\n    </tr>\n    <tr>\n      <th>Woman;Man</th>\n      <td>21648.0</td>\n    </tr>\n    <tr>\n      <th>Woman;Man;Non-binary, genderqueer, or gender non-conforming</th>\n      <td>30244.0</td>\n    </tr>\n    <tr>\n      <th>Woman;Non-binary, genderqueer, or gender non-conforming</th>\n      <td>65535.5</td>\n    </tr>\n  </tbody>\n</table>\n</div>"
                    },
                    "metadata": {}
                }
            ]
        },
        {
            "metadata": {},
            "cell_type": "markdown",
            "source": "Give the five number summary for the column `Age`?\n"
        },
        {
            "metadata": {},
            "cell_type": "markdown",
            "source": "**Double click here for hint**.\n\n<!--\nmin,q1,median,q3,max of a column are its five number summary.\n-->\n"
        },
        {
            "metadata": {},
            "cell_type": "code",
            "source": "# your code goes here\n#descriptive stats of column Age for broad result\ndf['Age'].describe().to_frame()",
            "execution_count": 13,
            "outputs": [
                {
                    "output_type": "execute_result",
                    "execution_count": 13,
                    "data": {
                        "text/plain": "                Age\ncount  11111.000000\nmean      30.778895\nstd        7.393686\nmin       16.000000\n25%       25.000000\n50%       29.000000\n75%       35.000000\nmax       99.000000",
                        "text/html": "<div>\n<style scoped>\n    .dataframe tbody tr th:only-of-type {\n        vertical-align: middle;\n    }\n\n    .dataframe tbody tr th {\n        vertical-align: top;\n    }\n\n    .dataframe thead th {\n        text-align: right;\n    }\n</style>\n<table border=\"1\" class=\"dataframe\">\n  <thead>\n    <tr style=\"text-align: right;\">\n      <th></th>\n      <th>Age</th>\n    </tr>\n  </thead>\n  <tbody>\n    <tr>\n      <th>count</th>\n      <td>11111.000000</td>\n    </tr>\n    <tr>\n      <th>mean</th>\n      <td>30.778895</td>\n    </tr>\n    <tr>\n      <th>std</th>\n      <td>7.393686</td>\n    </tr>\n    <tr>\n      <th>min</th>\n      <td>16.000000</td>\n    </tr>\n    <tr>\n      <th>25%</th>\n      <td>25.000000</td>\n    </tr>\n    <tr>\n      <th>50%</th>\n      <td>29.000000</td>\n    </tr>\n    <tr>\n      <th>75%</th>\n      <td>35.000000</td>\n    </tr>\n    <tr>\n      <th>max</th>\n      <td>99.000000</td>\n    </tr>\n  </tbody>\n</table>\n</div>"
                    },
                    "metadata": {}
                }
            ]
        },
        {
            "metadata": {},
            "cell_type": "code",
            "source": "#other option for specific result is using code below:\nimport numpy\nfrom numpy import percentile\nbet=df.dropna(subset = ['Age'])\ndata=bet['Age']\nquartile = percentile (data, [25,50,75])\n\ndata_min, data_max = data.min(), data.max()\n\nprint('Min: %.3f' % data_min)\nprint('Q1: %.3f' % quartile[0])\nprint('Median: %.3f' % quartile[1])\nprint('Q3: %.3f' % quartile[2])\nprint('Max: %.3f' % data_max)",
            "execution_count": 14,
            "outputs": [
                {
                    "output_type": "stream",
                    "text": "Min: 16.000\nQ1: 25.000\nMedian: 29.000\nQ3: 35.000\nMax: 99.000\n",
                    "name": "stdout"
                }
            ]
        },
        {
            "metadata": {},
            "cell_type": "markdown",
            "source": "Plot a histogram of the column `Age`.\n"
        },
        {
            "metadata": {},
            "cell_type": "code",
            "source": "# your code goes here\n#plot histogram of Column Age\nsns.histplot(df['Age'])",
            "execution_count": 47,
            "outputs": [
                {
                    "output_type": "execute_result",
                    "execution_count": 47,
                    "data": {
                        "text/plain": "<AxesSubplot:xlabel='Age', ylabel='Count'>"
                    },
                    "metadata": {}
                },
                {
                    "output_type": "display_data",
                    "data": {
                        "text/plain": "<Figure size 432x288 with 1 Axes>",
                        "image/png": "[encoded data removed]"
                    },
                    "metadata": {
                        "needs_background": "light"
                    }
                }
            ]
        },
        {
            "metadata": {},
            "cell_type": "markdown",
            "source": "## Outliers\n"
        },
        {
            "metadata": {},
            "cell_type": "markdown",
            "source": "### Finding outliers\n"
        },
        {
            "metadata": {},
            "cell_type": "markdown",
            "source": "Find out if outliers exist in the column `ConvertedComp` using a box plot?\n"
        },
        {
            "metadata": {},
            "cell_type": "code",
            "source": "# your code goes here\n#plot box plot of Coulumn ConvertedComp and check for outliers\nsns.boxplot(y='ConvertedComp', data=df, color='blue')\n",
            "execution_count": 15,
            "outputs": [
                {
                    "output_type": "execute_result",
                    "execution_count": 15,
                    "data": {
                        "text/plain": "<AxesSubplot:ylabel='ConvertedComp'>"
                    },
                    "metadata": {}
                },
                {
                    "output_type": "display_data",
                    "data": {
                        "text/plain": "<Figure size 432x288 with 1 Axes>",
                        "image/png": "[encoded data removed]"
                    },
                    "metadata": {
                        "needs_background": "light"
                    }
                }
            ]
        },
        {
            "metadata": {},
            "cell_type": "code",
            "source": "#other option using matplotlib\n\ndf.ConvertedComp.plot(kind='box', figsize=(10, 6))\n\nplt.title('Boxplot of Column ConvertedComp')\n\nplt.show()",
            "execution_count": 16,
            "outputs": [
                {
                    "output_type": "display_data",
                    "data": {
                        "text/plain": "<Figure size 720x432 with 1 Axes>",
                        "image/png": "[encoded data removed]"
                    },
                    "metadata": {
                        "needs_background": "light"
                    }
                }
            ]
        },
        {
            "metadata": {},
            "cell_type": "code",
            "source": "#plot boxplot of Coulumn Age and check for outliers\nsns.boxplot(y='Age', data=df, color='blue')\n",
            "execution_count": 26,
            "outputs": [
                {
                    "output_type": "execute_result",
                    "execution_count": 26,
                    "data": {
                        "text/plain": "<AxesSubplot:ylabel='Age'>"
                    },
                    "metadata": {}
                },
                {
                    "output_type": "display_data",
                    "data": {
                        "text/plain": "<Figure size 432x288 with 1 Axes>",
                        "image/png": "[encoded data removed]"
                    },
                    "metadata": {
                        "needs_background": "light"
                    }
                }
            ]
        },
        {
            "metadata": {},
            "cell_type": "markdown",
            "source": "Find out the Inter Quartile Range for the column `ConvertedComp`.\n"
        },
        {
            "metadata": {},
            "cell_type": "code",
            "source": "#calculate interquartile range of values in the 'ConvertedComp' column\n\nimport numpy as np\n#from numpy import percentile\n\ndf['ConvertedComp'].describe()\n\nq1 = df['ConvertedComp'].quantile(0.25)\n\nq3 = df['ConvertedComp'].quantile(0.75)\n\niqr = q3 - q1\n\n\nprint('the interquartile range is:', iqr)\n",
            "execution_count": 17,
            "outputs": [
                {
                    "output_type": "stream",
                    "text": "the interquartile range is: 73132.0\n",
                    "name": "stdout"
                }
            ]
        },
        {
            "metadata": {},
            "cell_type": "markdown",
            "source": "Find out the upper and lower bounds.\n"
        },
        {
            "metadata": {},
            "cell_type": "code",
            "source": "# your code goes here\n\n#display upper and lower bounds\n\nmax_val = df['ConvertedComp'].max()\nmin_val = df['ConvertedComp'].min()\n\nprint('the maximum and minimum bounds are', max_val, 'and', min_val, 'respectively')",
            "execution_count": 18,
            "outputs": [
                {
                    "output_type": "stream",
                    "text": "the maximum and minimum bounds are 2000000.0 and 0.0 respectively\n",
                    "name": "stdout"
                }
            ]
        },
        {
            "metadata": {},
            "cell_type": "markdown",
            "source": "Identify how many outliers are there in the `ConvertedComp` column.\n"
        },
        {
            "metadata": {},
            "cell_type": "code",
            "source": "# your code goes here\n#display outliers in ConvertedComp Column\n\nprint('outliers below:', df['ConvertedComp'].le(q1 - 1.5*iqr).sum())\n\nprint('outliers above:', df['ConvertedComp'].gt(q3 + 1.5*iqr).sum())\n",
            "execution_count": 19,
            "outputs": [
                {
                    "output_type": "stream",
                    "text": "outliers below: 0\noutliers above: 879\n",
                    "name": "stdout"
                }
            ]
        },
        {
            "metadata": {},
            "cell_type": "code",
            "source": "# your code goes here\n#display outliers in Age Column\n\nprint('outliers below:', df['Age'].le(q1 - 1.5*iqr).sum())\n\nprint('outliers above:', df['Age'].gt(q3 + 1.5*iqr).sum())\n",
            "execution_count": 27,
            "outputs": [
                {
                    "output_type": "stream",
                    "text": "outliers below: 0\noutliers above: 0\n",
                    "name": "stdout"
                }
            ]
        },
        {
            "metadata": {},
            "cell_type": "markdown",
            "source": "Create a new dataframe by removing the outliers from the `ConvertedComp` column.\n"
        },
        {
            "metadata": {},
            "cell_type": "code",
            "source": "# your code goes here\n#display new dataframe after removing outliers\nprint('the shape of the original dataframe is:', df.shape)\n\ndf1 = df[df['ConvertedComp'].le(q3 + 1.5*iqr)]\nprint('the shape of the new dataframe with outliers removed is:', df1.shape)\n\nmean_after = df1.mean()\n\nprint('the mean after removing the outlier is:', mean_after)",
            "execution_count": 23,
            "outputs": [
                {
                    "output_type": "stream",
                    "text": "the shape of the original dataframe is: (11398, 85)\nthe shape of the new dataframe with outliers removed is: (9703, 85)\nthe mean after removing the outlier is: Respondent        12501.007317\nCompTotal        724113.931155\nConvertedComp     59883.208389\nWorkWeekHrs          41.864782\nCodeRevHrs            4.737455\nAge                  30.695860\ndtype: float64\n",
                    "name": "stdout"
                }
            ]
        },
        {
            "metadata": {},
            "cell_type": "code",
            "source": "#median of ConvertedComp column after removing outliers\ndf1.ConvertedComp.median()",
            "execution_count": 25,
            "outputs": [
                {
                    "output_type": "execute_result",
                    "execution_count": 25,
                    "data": {
                        "text/plain": "52704.0"
                    },
                    "metadata": {}
                }
            ]
        },
        {
            "metadata": {},
            "cell_type": "markdown",
            "source": "## Correlation\n"
        },
        {
            "metadata": {},
            "cell_type": "markdown",
            "source": "### Finding correlation\n"
        },
        {
            "metadata": {},
            "cell_type": "markdown",
            "source": "Find the correlation between `Age` and all other numerical columns.\n"
        },
        {
            "metadata": {},
            "cell_type": "code",
            "source": "# your code goes here\n#find correlation between age and other columns\ndf.corr()['Age']",
            "execution_count": 24,
            "outputs": [
                {
                    "output_type": "execute_result",
                    "execution_count": 24,
                    "data": {
                        "text/plain": "Respondent       0.004041\nCompTotal        0.006970\nConvertedComp    0.105386\nWorkWeekHrs      0.036518\nCodeRevHrs      -0.020469\nAge              1.000000\nName: Age, dtype: float64"
                    },
                    "metadata": {}
                }
            ]
        },
        {
            "metadata": {},
            "cell_type": "markdown",
            "source": "## Authors\n"
        },
        {
            "metadata": {},
            "cell_type": "markdown",
            "source": "Ramesh Sannareddy\n"
        },
        {
            "metadata": {},
            "cell_type": "markdown",
            "source": "### Other Contributors\n"
        },
        {
            "metadata": {},
            "cell_type": "markdown",
            "source": "Rav Ahuja\n"
        },
        {
            "metadata": {},
            "cell_type": "markdown",
            "source": "## Change Log\n"
        },
        {
            "metadata": {},
            "cell_type": "markdown",
            "source": "| Date (YYYY-MM-DD) | Version | Changed By        | Change Description                 |\n| ----------------- | ------- | ----------------- | ---------------------------------- |\n| 2020-10-17        | 0.1     | Ramesh Sannareddy | Created initial version of the lab |\n"
        },
        {
            "metadata": {},
            "cell_type": "markdown",
            "source": "Copyright \u00a9 2020 IBM Corporation. This notebook and its source code are released under the terms of the [MIT License](https://cognitiveclass.ai/mit-license?utm_medium=Exinfluencer&utm_source=Exinfluencer&utm_content=000026UJ&utm_term=10006555&utm_id=NA-SkillsNetwork-Channel-SkillsNetworkCoursesIBMDA0321ENSkillsNetwork21426264-2021-01-01&cm_mmc=Email_Newsletter-\\_-Developer_Ed%2BTech-\\_-WW_WW-\\_-SkillsNetwork-Courses-IBM-DA0321EN-SkillsNetwork-21426264&cm_mmca1=000026UJ&cm_mmca2=10006555&cm_mmca3=M12345678&cvosrc=email.Newsletter.M12345678&cvo_campaign=000026UJ).\n"
        }
    ],
    "metadata": {
        "kernelspec": {
            "name": "python3",
            "display_name": "Python 3.8",
            "language": "python"
        },
        "language_info": {
            "name": "python",
            "version": "3.8.12",
            "mimetype": "text/x-python",
            "codemirror_mode": {
                "name": "ipython",
                "version": 3
            },
            "pygments_lexer": "ipython3",
            "nbconvert_exporter": "python",
            "file_extension": ".py"
        }
    },
    "nbformat": 4,
    "nbformat_minor": 4
}